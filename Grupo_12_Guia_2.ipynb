{
  "nbformat": 4,
  "nbformat_minor": 0,
  "metadata": {
    "colab": {
      "provenance": [],
      "include_colab_link": true
    },
    "kernelspec": {
      "name": "python3",
      "display_name": "Python 3"
    },
    "language_info": {
      "name": "python"
    }
  },
  "cells": [
    {
      "cell_type": "markdown",
      "metadata": {
        "id": "view-in-github",
        "colab_type": "text"
      },
      "source": [
        "<a href=\"https://colab.research.google.com/github/EmilyTench10/Guia2/blob/main/Grupo_12_Guia_2.ipynb\" target=\"_parent\"><img src=\"https://colab.research.google.com/assets/colab-badge.svg\" alt=\"Open In Colab\"/></a>"
      ]
    },
    {
      "cell_type": "markdown",
      "source": [
        "# 📝 **Solución de Guía #2**\n",
        "\n",
        "## 👥 **Integrantes**:  \n",
        "- *Miguel Alejandro Díaz Cely*  \n",
        "- *Wilson Sarmiento*\n",
        "- *David Fernando Delgado Bernal*\n",
        "- *Emily Del Carmen Tench Pérez*  "
      ],
      "metadata": {
        "id": "9B_WMo5SWSbo"
      }
    },
    {
      "cell_type": "markdown",
      "source": [
        "# **Guía 2**\n",
        "\n",
        "Objetivo: aplicar los conceptos de Pandas en la manipulación y análisis de datos estructurados. Se trabajará con Series y DataFrames, aplicando técnicas de acceso, selección, filtrado y agregación de datos.\n",
        "\n",
        "### **Caso de Negocio: Análisis de Deserción de Clientes en una Empresa de Telecomunicaciones**\n",
        "\n",
        "**Contexto**\n",
        "\n",
        "En la industria de las telecomunicaciones, la retención de clientes es un factor crítico para la sostenibilidad del negocio. La competencia es feroz y adquirir nuevos clientes suele ser más costoso que mantener a los actuales. En este análisis, exploraremos un conjunto de datos que contiene información detallada sobre clientes que han abandonado el servicio (churn) y aquellos que permanecen activos.\n",
        "\n",
        "Nuestro objetivo es identificar los factores clave que influyen en la deserción, comprender patrones de comportamiento y generar estrategias efectivas para reducir la tasa de abandono.\n",
        "\n",
        "La empresa ha experimentado un aumento en la tasa de deserción de clientes, lo que ha provocado:\n",
        "- Pérdida de ingresos recurrentes.\n",
        "- Incremento en los costos de adquisición de nuevos clientes.\n",
        "- Menor estabilidad en la base de clientes a largo plazo.\n",
        "\n",
        "Para abordar esta problemática, es crucial identificar las razones detrás de la deserción y desarrollar estrategias para mejorar la retención de clientes.\n",
        "\n"
      ],
      "metadata": {
        "id": "sVxeQki8vRXz"
      }
    },
    {
      "cell_type": "markdown",
      "source": [
        "**Entrega del Trabajo**\n",
        "\n",
        "Los estudiantes deben trabajar en grupos de entre 2 y 4 personas. Cada grupo deberá subir su trabajo a un repositorio de GitHub, asegurándose de que el código y los archivos necesarios estén bien organizados y documentados. Posteriormente, deberán enviar el enlace del repositorio en la plataforma Canvas para su evaluación.\n",
        "\n",
        "Instrucciones para la entrega:\n",
        "\n",
        "Crear un repositorio en GitHub con un nombre descriptivo para el proyecto.\n",
        "\n",
        "Subir el código en Jupyter Notebook (.ipynb) o en formato Python (.py).\n",
        "\n",
        "Incluir un archivo README.md con una breve descripción del trabajo y las instrucciones de ejecución.\n",
        "\n",
        "Compartir el enlace del repositorio en Canvas dentro del plazo establecido.\n",
        "\n"
      ],
      "metadata": {
        "id": "TBsud25XSR0w"
      }
    },
    {
      "cell_type": "markdown",
      "source": [
        "**Descripción de las variables del dataset telecom_churn**\n",
        "\n",
        "El dataset telecom_churn contiene información detallada sobre clientes de una empresa de telecomunicaciones, incluyendo datos generales, planes contratados, uso del servicio telefónico y llamadas al servicio al cliente. Su propósito principal es analizar patrones de deserción de clientes, identificados a través de la variable churn, que indica si un cliente ha abandonado la empresa (1) o sigue siendo cliente (0).\n",
        "\n",
        "Dentro del dataset, encontramos información general como el estado (state) donde reside el cliente, el código de área (area code), y el número de teléfono (phone number), aunque esta última variable no aporta información útil para el análisis, ya que es un identificador único.\n",
        "\n",
        "Además, el dataset registra el tiempo que un cliente ha estado en la empresa a través de la variable account length, lo que puede ayudar a analizar si la duración del contrato influye en la deserción. También se incluyen detalles sobre los planes contratados, como si el cliente tiene un plan internacional (international plan), que le permite realizar llamadas internacionales, o un buzón de voz (voice mail plan), que le permite recibir mensajes de voz.\n",
        "\n",
        "En cuanto al uso del servicio, se registran datos detallados sobre el tiempo en llamadas y los costos asociados. Se divide en tres períodos del día: diurno (total day minutes, total day calls, total day charge), vespertino (total eve minutes, total eve calls, total eve charge) y nocturno (total night minutes, total night calls, total night charge), lo que permite evaluar si hay patrones de consumo que influyen en la deserción. También se incluye información sobre el uso del servicio internacional, con variables como total intl minutes (minutos en llamadas internacionales), total intl calls (cantidad de llamadas internacionales) y total intl charge (costos por llamadas internacionales).\n",
        "\n",
        "Otro aspecto clave del dataset es el número de llamadas al servicio al cliente (customer service calls), ya que una mayor cantidad de llamadas puede indicar insatisfacción y estar relacionada con la decisión del cliente de abandonar la empresa.\n",
        "\n",
        "Finalmente, la variable más importante del análisis es churn, que indica si un cliente ha desertado de la empresa. A partir de esta variable, podemos analizar qué factores influyen en la deserción y encontrar patrones en los clientes que tienen mayor probabilidad de abandonar el servicio.\n"
      ],
      "metadata": {
        "id": "R1eyqBGSScta"
      }
    },
    {
      "cell_type": "markdown",
      "source": [
        "**Exploración y Limpieza de Datos**\n",
        "\n",
        "Cargar y explorar el dataset\n",
        "\n",
        "Importa Pandas y carga el dataset telecom_churn.csv en un DataFrame.\n",
        "\n",
        "Muestra las primeras 5 filas del DataFrame.\n",
        "\n",
        "Verifica cuántas filas y columnas tiene el dataset.\n",
        "\n",
        "Muestra información general del dataset, incluyendo los tipos de datos.\n",
        "\n",
        "Identifica si hay valores nulos en alguna columna."
      ],
      "metadata": {
        "id": "-gqRGJ8yFs5Y"
      }
    },
    {
      "cell_type": "code",
      "execution_count": null,
      "metadata": {
        "id": "wuoyvrE0vQ09",
        "colab": {
          "base_uri": "https://localhost:8080/"
        },
        "outputId": "55738d11-1a5b-4715-b2b3-90f8995b9fc8"
      },
      "outputs": [
        {
          "output_type": "stream",
          "name": "stdout",
          "text": [
            "     state  account length  area code phone number international plan voice mail plan  number vmail messages  total day minutes  total day calls  total day charge  total eve minutes  total eve calls  total eve charge  total night minutes  total night calls  total night charge  total intl minutes  total intl calls  total intl charge  customer service calls  churn\n",
            "0       KS             128        415     382-4657                 no             yes                     25              265.1              110             45.07              197.4               99             16.78                244.7                 91               11.01                10.0                 3               2.70                       1  False\n",
            "1       OH             107        415     371-7191                 no             yes                     26              161.6              123             27.47              195.5              103             16.62                254.4                103               11.45                13.7                 3               3.70                       1  False\n",
            "2       NJ             137        415     358-1921                 no              no                      0              243.4              114             41.38              121.2              110             10.30                162.6                104                7.32                12.2                 5               3.29                       0  False\n",
            "3       OH              84        408     375-9999                yes              no                      0              299.4               71             50.90               61.9               88              5.26                196.9                 89                8.86                 6.6                 7               1.78                       2  False\n",
            "4       OK              75        415     330-6626                yes              no                      0              166.7              113             28.34              148.3              122             12.61                186.9                121                8.41                10.1                 3               2.73                       3  False\n",
            "...    ...             ...        ...          ...                ...             ...                    ...                ...              ...               ...                ...              ...               ...                  ...                ...                 ...                 ...               ...                ...                     ...    ...\n",
            "3328    AZ             192        415     414-4276                 no             yes                     36              156.2               77             26.55              215.5              126             18.32                279.1                 83               12.56                 9.9                 6               2.67                       2  False\n",
            "3329    WV              68        415     370-3271                 no              no                      0              231.1               57             39.29              153.4               55             13.04                191.3                123                8.61                 9.6                 4               2.59                       3  False\n",
            "3330    RI              28        510     328-8230                 no              no                      0              180.8              109             30.74              288.8               58             24.55                191.9                 91                8.64                14.1                 6               3.81                       2  False\n",
            "3331    CT             184        510     364-6381                yes              no                      0              213.8              105             36.35              159.6               84             13.57                139.2                137                6.26                 5.0                10               1.35                       2  False\n",
            "3332    TN              74        415     400-4344                 no             yes                     25              234.4              113             39.85              265.9               82             22.60                241.4                 77               10.86                13.7                 4               3.70                       0  False\n",
            "\n",
            "[3333 rows x 21 columns]\n"
          ]
        }
      ],
      "source": [
        "# Solución propuesta\n",
        "# 1. Importa Pandas y carga el dataset telecom_churn.csv en un DataFrame.\n",
        "import pandas as pd\n",
        "\n",
        "df = pd.read_csv('/content/telecom_churn.csv')\n",
        "\n",
        "print(df)"
      ]
    },
    {
      "cell_type": "code",
      "source": [
        "# 2. Muestra las primeras 5 filas del DataFrame.\n",
        "# Cargar el dataset\n",
        "df = pd.read_csv('telecom_churn.csv')\n",
        "\n",
        "# Ajustar el ancho máximo de las columnas para tener una mejor vista del df\n",
        "pd.set_option('display.max_columns', None)  # Muestra todas las columnas\n",
        "pd.set_option('display.width',1000)       # Ajustar el ancho total de la pantalla\n",
        "\n",
        "# Mostramos las primeras 5 filas\n",
        "print(df.head())"
      ],
      "metadata": {
        "id": "2rEBw2ZWLxen",
        "colab": {
          "base_uri": "https://localhost:8080/"
        },
        "outputId": "6eefe908-773c-4977-80be-fd15932a009e"
      },
      "execution_count": null,
      "outputs": [
        {
          "output_type": "stream",
          "name": "stdout",
          "text": [
            "  state  account length  area code phone number international plan voice mail plan  number vmail messages  total day minutes  total day calls  total day charge  total eve minutes  total eve calls  total eve charge  total night minutes  total night calls  total night charge  total intl minutes  total intl calls  total intl charge  customer service calls  churn\n",
            "0    KS             128        415     382-4657                 no             yes                     25              265.1              110             45.07              197.4               99             16.78                244.7                 91               11.01                10.0                 3               2.70                       1  False\n",
            "1    OH             107        415     371-7191                 no             yes                     26              161.6              123             27.47              195.5              103             16.62                254.4                103               11.45                13.7                 3               3.70                       1  False\n",
            "2    NJ             137        415     358-1921                 no              no                      0              243.4              114             41.38              121.2              110             10.30                162.6                104                7.32                12.2                 5               3.29                       0  False\n",
            "3    OH              84        408     375-9999                yes              no                      0              299.4               71             50.90               61.9               88              5.26                196.9                 89                8.86                 6.6                 7               1.78                       2  False\n",
            "4    OK              75        415     330-6626                yes              no                      0              166.7              113             28.34              148.3              122             12.61                186.9                121                8.41                10.1                 3               2.73                       3  False\n"
          ]
        }
      ]
    },
    {
      "cell_type": "code",
      "source": [
        "#3. Verifica cuántas filas y columnas tiene el dataset.\n",
        "print (\"Confirmación de Filas y Columnas\")\n",
        "print(f\"El dataset tiene {df.shape[0]} filas y {df.shape[1]} columnas.\")"
      ],
      "metadata": {
        "id": "f7nnjggBL1mm",
        "colab": {
          "base_uri": "https://localhost:8080/"
        },
        "outputId": "1220f6e4-3fda-4834-a8cf-f4c5a991342f"
      },
      "execution_count": null,
      "outputs": [
        {
          "output_type": "stream",
          "name": "stdout",
          "text": [
            "Confirmación de Filas y Columnas\n",
            "El dataset tiene 3333 filas y 21 columnas.\n"
          ]
        }
      ]
    },
    {
      "cell_type": "code",
      "source": [
        "#4. Muestra información general del dataset, incluyendo los tipos de datos.\n",
        "print(df.info())"
      ],
      "metadata": {
        "id": "fal6tdkUL4Xg",
        "colab": {
          "base_uri": "https://localhost:8080/"
        },
        "outputId": "970b6164-f824-47ed-c4eb-b00aea607ef2"
      },
      "execution_count": null,
      "outputs": [
        {
          "output_type": "stream",
          "name": "stdout",
          "text": [
            "<class 'pandas.core.frame.DataFrame'>\n",
            "RangeIndex: 3333 entries, 0 to 3332\n",
            "Data columns (total 21 columns):\n",
            " #   Column                  Non-Null Count  Dtype  \n",
            "---  ------                  --------------  -----  \n",
            " 0   state                   3333 non-null   object \n",
            " 1   account length          3333 non-null   int64  \n",
            " 2   area code               3333 non-null   int64  \n",
            " 3   phone number            3333 non-null   object \n",
            " 4   international plan      3333 non-null   object \n",
            " 5   voice mail plan         3333 non-null   object \n",
            " 6   number vmail messages   3333 non-null   int64  \n",
            " 7   total day minutes       3333 non-null   float64\n",
            " 8   total day calls         3333 non-null   int64  \n",
            " 9   total day charge        3333 non-null   float64\n",
            " 10  total eve minutes       3333 non-null   float64\n",
            " 11  total eve calls         3333 non-null   int64  \n",
            " 12  total eve charge        3333 non-null   float64\n",
            " 13  total night minutes     3333 non-null   float64\n",
            " 14  total night calls       3333 non-null   int64  \n",
            " 15  total night charge      3333 non-null   float64\n",
            " 16  total intl minutes      3333 non-null   float64\n",
            " 17  total intl calls        3333 non-null   int64  \n",
            " 18  total intl charge       3333 non-null   float64\n",
            " 19  customer service calls  3333 non-null   int64  \n",
            " 20  churn                   3333 non-null   bool   \n",
            "dtypes: bool(1), float64(8), int64(8), object(4)\n",
            "memory usage: 524.2+ KB\n",
            "None\n"
          ]
        }
      ]
    },
    {
      "cell_type": "code",
      "source": [
        "#5. Identifica si hay valores nulos en alguna columna.\n",
        "print (\"se Identifican los valores nulos\")\n",
        "print(df.isnull().sum())"
      ],
      "metadata": {
        "id": "Ngq3uxyGL7Xp",
        "colab": {
          "base_uri": "https://localhost:8080/"
        },
        "outputId": "8780f503-0949-4659-de4c-3803973a2a0d"
      },
      "execution_count": null,
      "outputs": [
        {
          "output_type": "stream",
          "name": "stdout",
          "text": [
            "se Identifican los valores nulos\n",
            "state                     0\n",
            "account length            0\n",
            "area code                 0\n",
            "phone number              0\n",
            "international plan        0\n",
            "voice mail plan           0\n",
            "number vmail messages     0\n",
            "total day minutes         0\n",
            "total day calls           0\n",
            "total day charge          0\n",
            "total eve minutes         0\n",
            "total eve calls           0\n",
            "total eve charge          0\n",
            "total night minutes       0\n",
            "total night calls         0\n",
            "total night charge        0\n",
            "total intl minutes        0\n",
            "total intl calls          0\n",
            "total intl charge         0\n",
            "customer service calls    0\n",
            "churn                     0\n",
            "dtype: int64\n"
          ]
        }
      ]
    },
    {
      "cell_type": "code",
      "source": [
        "# Distribución de valores\n",
        "print(df['churn'].value_counts())\n",
        "print(df['area code'].value_counts())\n",
        "print(df['international plan'].value_counts())\n",
        "print(df['voice mail plan'].value_counts())"
      ],
      "metadata": {
        "id": "JKe8JsSnMFOh",
        "colab": {
          "base_uri": "https://localhost:8080/"
        },
        "outputId": "ad4410fa-c7be-4666-ca85-b5b9479c479e"
      },
      "execution_count": null,
      "outputs": [
        {
          "output_type": "stream",
          "name": "stdout",
          "text": [
            "churn\n",
            "False    2850\n",
            "True      483\n",
            "Name: count, dtype: int64\n",
            "area code\n",
            "415    1655\n",
            "510     840\n",
            "408     838\n",
            "Name: count, dtype: int64\n",
            "international plan\n",
            "no     3010\n",
            "yes     323\n",
            "Name: count, dtype: int64\n",
            "voice mail plan\n",
            "no     2411\n",
            "yes     922\n",
            "Name: count, dtype: int64\n"
          ]
        }
      ]
    },
    {
      "cell_type": "markdown",
      "source": [
        "**Análisis de Churn y Factores Relacionados**\n",
        "\n",
        "Calcula el porcentaje de clientes que han desertado (churn = 1).\n",
        "\n",
        "Identifica si los clientes con plan internacional (international plan) tienen mayor tasa de deserción.\n",
        "\n",
        "Identifica si los clientes con buzón de voz (voice mail plan) tienen menor tasa de deserción."
      ],
      "metadata": {
        "id": "PIGXq-ijFgb4"
      }
    },
    {
      "cell_type": "code",
      "source": [
        "# Calculamos el porcentaje de clientes que han desertado y los que no\n",
        "df_churn_percent = df['churn'].value_counts(normalize=True).mul(100).rename(index={False: 'Clientes Activos (%)', True: 'Clientes Desertores (%)'}).rename_axis(' ').to_frame('Porcentaje')  # Convertimos en DataFrame y nombramos la columna\n",
        "\n",
        "# Imprimimos el resultado de los cálculos en formato tabla\n",
        "print(df_churn_percent)\n",
        "\n",
        "# Evaluamos si la tasa de deserción es alta (por ejemplo, mayor al 50%)\n",
        "if df_churn_percent.loc['Clientes Desertores (%)', 'Porcentaje'] > 50:\n",
        "    print(\"Más del 50% de los clientes han desertado.\")\n",
        "else:\n",
        "    print(\"Menos del 50% de los clientes han desertado.\")"
      ],
      "metadata": {
        "id": "3_TFqdwBwUD-",
        "colab": {
          "base_uri": "https://localhost:8080/"
        },
        "outputId": "1d97438f-922b-43da-d252-7a9d90d3082f"
      },
      "execution_count": null,
      "outputs": [
        {
          "output_type": "stream",
          "name": "stdout",
          "text": [
            "                         Porcentaje\n",
            "                                   \n",
            "Clientes Activos (%)      85.508551\n",
            "Clientes Desertores (%)   14.491449\n",
            "Menos del 50% de los clientes han desertado.\n"
          ]
        }
      ]
    },
    {
      "cell_type": "code",
      "source": [
        "#Identificamos si los clientes del plan internacional tienen mayor tasa de deserción\n",
        "df_percent = (df.groupby(['international plan', 'churn']).size().unstack().div(df.groupby('international plan').size(), axis=0) * 100)\n",
        "\n",
        "#Renombramos los índices para una mejor legibilidad\n",
        "df_percent = df_percent.rename(index={\"no\": \"Clientes sin plan internacional\",\"yes\": \"Clientes con plan internacional\"},columns={False: \"Mantenidos (%)\",True: \"Desertores (%)\"}).rename_axis(\" \")\n",
        "\n",
        "#Imprimimos el resultado de los cálculos\n",
        "print(df_percent)\n",
        "\n",
        "#Evaluamos si los clientes con plan internacional tienen mayor tasa de deserción\n",
        "if df_percent.loc[\"Clientes con plan internacional\", \"Desertores (%)\"] > df_percent.loc[\"Clientes sin plan internacional\", \"Desertores (%)\"]:\n",
        "    print(\"Los clientes con plan internacional tienen una mayor tasa de deserción.\")\n",
        "else:\n",
        "    print(\"Los clientes con plan internacional no tienen una mayor tasa de deserción.\")"
      ],
      "metadata": {
        "colab": {
          "base_uri": "https://localhost:8080/"
        },
        "id": "z8rGyggfV_QO",
        "outputId": "d0184575-97e5-4c5d-fa96-5641da4fbed5"
      },
      "execution_count": null,
      "outputs": [
        {
          "output_type": "stream",
          "name": "stdout",
          "text": [
            "churn                            Mantenidos (%)  Desertores (%)\n",
            "                                                               \n",
            "Clientes sin plan internacional       88.504983       11.495017\n",
            "Clientes con plan internacional       57.585139       42.414861\n",
            "Los clientes con plan internacional tienen una mayor tasa de deserción.\n"
          ]
        }
      ]
    },
    {
      "cell_type": "code",
      "source": [
        "# Identificamos si los clientes del plan de buzón de voz tienen menor tasa de deserción\n",
        "df_percent_voicemail = (df.groupby(['voice mail plan', 'churn']).size().unstack().div(df.groupby('voice mail plan').size(), axis=0) * 100)\n",
        "\n",
        "# Renombramos los índices para una mejor legibilidad\n",
        "df_percent_voicemail = df_percent_voicemail.rename(index={\"no\": \"Clientes sin buzón de voz\", \"yes\": \"Clientes con buzón de voz\"},columns={False: \"Mantenidos (%)\",True: \"Desertores (%)\"}).rename_axis(\" \")\n",
        "\n",
        "# Imprimimos el resultado de los cálculos\n",
        "print(df_percent_voicemail)\n",
        "\n",
        "# Evaluamos si los clientes con buzón de voz tienen menor tasa de deserción\n",
        "if df_percent_voicemail.loc[\"Clientes con buzón de voz\", \"Desertores (%)\"] < df_percent_voicemail.loc[\"Clientes sin buzón de voz\", \"Desertores (%)\"]:\n",
        "    print(\"Los clientes con buzón de voz tienen una menor tasa de deserción.\")\n",
        "else:\n",
        "    print(\"Los clientes con buzón de voz no tienen una menor tasa de deserción.\")"
      ],
      "metadata": {
        "colab": {
          "base_uri": "https://localhost:8080/"
        },
        "id": "3vi4b-s3WCXP",
        "outputId": "0386fdde-3810-4b33-c2ec-0979ebd831b9"
      },
      "execution_count": null,
      "outputs": [
        {
          "output_type": "stream",
          "name": "stdout",
          "text": [
            "churn                      Mantenidos (%)  Desertores (%)\n",
            "                                                         \n",
            "Clientes sin buzón de voz       83.284944       16.715056\n",
            "Clientes con buzón de voz       91.323210        8.676790\n",
            "Los clientes con buzón de voz tienen una menor tasa de deserción.\n"
          ]
        }
      ]
    },
    {
      "cell_type": "markdown",
      "source": [
        "**Análisis de la Duración del Servicio y Deserción**\n",
        "\n",
        "¿Cuál es la duración promedio de la cuenta (account length) entre clientes que desertaron y los que permanecen?\n",
        "\n",
        "¿Los clientes con cuentas más antiguas tienen más probabilidades de desertar?"
      ],
      "metadata": {
        "id": "yL8Y_juFFup7"
      }
    },
    {
      "cell_type": "code",
      "source": [
        "# ¿Cuál es la duración promedio de la cuenta (account length) entre clientes que desertaron y los que permanecen?\n",
        "#1. primero, filtramos en Chrun los clientes que abandonaron (true) y posteriormente elegimos los datos filtrados\n",
        "# en account length para sacar su promedio con .mean().\n",
        "go1 = df[df[\"churn\"]==True][\"account length\"].mean()\n",
        "go2 = round(go1)\n",
        "#print(go2)\n",
        "# segundo, filtramos en Chrun los clientes que siguen con (False) y posteriormente elegimos los datos filtrados\n",
        "# en account length para sacar su promedio con .mean().\n",
        "stay1 = df[df[\"churn\"]==False][\"account length\"].mean()\n",
        "stay2 = round(stay1)\n",
        "#print(stay2)\n",
        "# Imprimimos los dos resultados para saber el promedio en ambos casos.\n",
        "print(f\"1. Los clientes que abandonaron la compañias en promedio duraron {go2} días, mientras que los clientes que continuan han durado en promedio {stay2} días\")\n",
        "\n",
        "resultado = pd.DataFrame({\n",
        "    \"Type\":[\"Churn Client\",\"Keep Plan\"],\n",
        "    \"Days\":[go2,stay2]\n",
        "})\n",
        "\n",
        "print(f\"\\n{resultado}\")"
      ],
      "metadata": {
        "id": "7ViU0n6lGFao",
        "colab": {
          "base_uri": "https://localhost:8080/"
        },
        "outputId": "cb348903-404f-444b-90f6-65f92bde448d"
      },
      "execution_count": null,
      "outputs": [
        {
          "output_type": "stream",
          "name": "stdout",
          "text": [
            "1. Los clientes que abandonaron la compañias en promedio duraron 103 días, mientras que los clientes que continuan han durado en promedio 101 días\n",
            "\n",
            "           Type  Days\n",
            "0  Churn Client   103\n",
            "1     Keep Plan   101\n"
          ]
        }
      ]
    },
    {
      "cell_type": "markdown",
      "source": [
        "**Relación entre Deserción y Uso del Servicio**\n",
        "\n",
        "Compara la cantidad de minutos usados en llamadas diurnas (total day minutes) entre clientes con y sin churn.\n",
        "\n",
        "Compara la cantidad de minutos usados en llamadas nocturnas (total night minutes).\n",
        "\n",
        "Compara el número total de llamadas (total day calls) entre clientes con y sin churn."
      ],
      "metadata": {
        "id": "vyaa82K0GF6B"
      }
    },
    {
      "cell_type": "code",
      "source": [
        "# Solución propuesta\n",
        "\n",
        "#Obtenemos la cantidad de minutos usados entre los clientes que han desertado y los que no en las llamadas diurnas\n",
        "minutos_usados_con_churn = df[df[\"churn\"]==1][\"total day minutes\"].sum()\n",
        "minutos_usados_sin_churn = df[df[\"churn\"]==0] [\"total day minutes\"].sum()\n",
        "print(f\"La cantidad de minutos usados para los clientes desertadaos es de {minutos_usados_con_churn}\")\n",
        "print(f\"cantidad de minutos usados para los clientes que no han desertado es de {minutos_usados_sin_churn}\")\n",
        "\n",
        "#Obtenemos la cantidad de minutos usados entre los clientes que han desertado y los que no en las llamadas nocturnas\n",
        "llamadas_nocturnas_con = df[df[\"churn\"]==1][\"total night minutes\"].sum()\n",
        "llamadas_nocturnas_sin = df[df[\"churn\"]==0][\"total night minutes\"].sum()\n",
        "print(f\"La cantidad de minutos usados en llamadas nocturnas es de {llamadas_nocturnas_con} para los clientes que desertaron\")\n",
        "print(f\"La cantidad de minutos usados en llamadas nocturnas es de {llamadas_nocturnas_sin} para los clientes que no desertaron\")\n",
        "\n",
        "#Obtemos el numeto total de llamadas de los clientes que han desertado y los que no\n",
        "total_llamadas_con = df[df[\"churn\"]==1][\"total day calls\"].sum()\n",
        "total_llamadas_sin = df[df[\"churn\"]==0][\"total day calls\"].sum()\n",
        "print(f\"El número del total de llamadas para los clientes que han desertado es de {total_llamadas_con}\")\n",
        "print(f\"El número del total de llamadas para los clientes que no han desertado es de {total_llamadas_sin}\")\n"
      ],
      "metadata": {
        "id": "d4aPKcv2GrpL",
        "colab": {
          "base_uri": "https://localhost:8080/"
        },
        "outputId": "20aa01f7-baf5-4543-b8dc-5b2a10cf9888"
      },
      "execution_count": null,
      "outputs": [
        {
          "output_type": "stream",
          "name": "stdout",
          "text": [
            "La cantidad de minutos usados para los clientes desertadaos es de 99939.5\n",
            "cantidad de minutos usados para los clientes que no han desertado es de 499250.89999999997\n",
            "La cantidad de minutos usados en llamadas nocturnas es de 99126.9 para los clientes que desertaron\n",
            "La cantidad de minutos usados en llamadas nocturnas es de 570379.6 para los clientes que no desertaron\n",
            "El número del total de llamadas para los clientes que han desertado es de 48945\n",
            "El número del total de llamadas para los clientes que no han desertado es de 285807\n"
          ]
        }
      ]
    },
    {
      "cell_type": "markdown",
      "source": [
        "**Impacto de las Llamadas al Servicio al Cliente en la Deserción**\n",
        "\n",
        "Calcula el número promedio de llamadas al servicio al cliente (customer service calls) entre clientes que desertaron y los que no.\n",
        "\n",
        "Divide los clientes en dos grupos:\n",
        "\n",
        "- Grupo 1: Clientes que llamaron más de 3 veces al servicio al cliente.\n",
        "- Grupo 2: Clientes que llamaron 3 veces o menos.\n",
        "Compara la tasa de churn entre ambos grupos."
      ],
      "metadata": {
        "id": "aKl9LnZgGsDT"
      }
    },
    {
      "cell_type": "code",
      "source": [
        "#1.Calcula el número promedio de llamadas al servicio al cliente (customer service calls) entre clientes que desertaron y los que no.\n",
        "# Primero filtramos por los F y V en la columna churn, con esas division promediamos las customer service calls.\n",
        "customer = int(df[df[\"churn\"]==True][\"customer service calls\"].mean())\n",
        "customeryes = int(df[df[\"churn\"]==False][\"customer service calls\"].mean())\n",
        "# Segundo, imprimimos los resultados de las customer service calls.\n",
        "print(f\"1.En promedio los clientes que abandonaron telecom llamaron {customer:.0f} veces,  mientras los que siguen con el servicio llamaron {customeryes:.0f} ves.\")\n",
        "\n",
        "\n",
        "resultado = pd.DataFrame({\n",
        "    \"Type\":[\"Churn Client\",\"Keep Plan\"],\n",
        "    \"Total Day Calls\":[customer,customeryes]\n",
        "})\n",
        "\n",
        "\n",
        "print(f\"\\n{resultado}\\n\\n \")\n",
        "\n",
        "#2. Divide los clientes en dos grupos:\n",
        "#Grupo 1: Clientes que llamaron más de 3 veces al servicio al cliente.\n",
        "#Grupo 2: Clientes que llamaron 3 veces o menos.\n",
        "#Compara la tasa de churn entre ambos grupos.\n",
        "#2. primero, creamos una columna ficticia \"grupos\" y en esa columna dividimos en 2 grupos, grupo 1 (más de 3 calls) groupo 2 (3 o menos calls)\n",
        "df[\"grupos\"]= df[\"customer service calls\"].apply(lambda x: \"group1\" if x > 3 else \"group2\")\n",
        "#2. Después filtramos por separado grupo 1 y grupo 2 por separado, para filtra las calls a customer service utilizando count para datos únicos.\n",
        "grupo1 = df[df[\"grupos\"]==\"group1\"][\"customer service calls\"].count()\n",
        "print(f\"2a. El número de clientes que llamaron más de 3 veces fue {grupo1}\")\n",
        "grupo2 = df[df[\"grupos\"]==\"group2\"][\"customer service calls\"].count()\n",
        "print(f\"2b. El número de clientes que llamaron 3 veces o menos fue {grupo2}\")\n",
        "\n",
        "resultado = pd.DataFrame({\n",
        "    \"Type\":[\"Group 1 (more 3)\",\"Group 2 (less or 3)\"],\n",
        "    \"Total Day Calls\":[grupo1,grupo2]\n",
        "})\n",
        "\n",
        "\n",
        "print(f\"\\n{resultado}\\n\\n \")\n",
        "\n",
        "#2. tres, Filtramos los trues (abandonaron) y después  filtramos por grupo 1 usando.shape\n",
        "churn1 = df[(df[\"churn\"]==True)&(df[\"grupos\"]==\"group1\")].shape[0]\n",
        "#print(churn1)\n",
        "#2. cuatro, Filtramos los false (siguen ) y después filtramos por grupo 1 usando  .shape\n",
        "churn2 = df[(df[\"churn\"]==False)&(df[\"grupos\"]==\"group1\")].shape[0]\n",
        "#print(churn2)\n",
        "#2. cinco, Filtramos los trues (abandonaron) y después  filtramos por grupo 2 usando .shape\n",
        "churna = df[(df[\"churn\"]==True)&(df[\"grupos\"]==\"group2\")].shape[0]\n",
        "#print(churna)\n",
        "#2. Filtramos los false (siguen ) y después filtramos por grupo 2 usando .shape\n",
        "churnb = df[(df[\"churn\"]==False)&(df[\"grupos\"]==\"group2\")].shape[0]\n",
        "#print(churnb)\n",
        "#2. Finalmente sacamos el porcentaje de churn del grupo 1 y 2 dividiendo los ususarios que abandonaron por el total del grupo.\n",
        "tasa_churn_1 = (churn1/grupo1)*100\n",
        "tasa_churn_2 = (churna/grupo2)*100\n",
        "print(f\"2c. El porcentaje de personas que abandonaron Telecom del grupo 1 (más de 3 llamadas) fue del {tasa_churn_1:.0f}%\")\n",
        "print(f\"2d. El porcentaje de personas que abandonaron Telecom del grupo 2 ( 3 llamadas o menos) fue del {tasa_churn_2:.0f}%\")\n",
        "grupo2 = df[df[\"grupos\"]==\"group2\"][\"customer service calls\"].count()\n",
        "\n",
        "\n",
        "\n",
        "resultado = pd.DataFrame({\n",
        "    \"Type\":[\"Group 1 (more 3)\",\"Group 2 (less or 3)\"],\n",
        "    \"Abandon\":[tasa_churn_1,tasa_churn_2]\n",
        "})\n",
        "\n",
        "resultado[\"Abandon\"] = resultado[\"Abandon\"].map( lambda x: f\"{x:.0f}%\" )\n",
        "print(f\"\\n{resultado}\\n\\n \")"
      ],
      "metadata": {
        "id": "ac9qDXgrGz-M",
        "colab": {
          "base_uri": "https://localhost:8080/"
        },
        "outputId": "dd9f5388-4532-408b-baaa-1063ac693796"
      },
      "execution_count": null,
      "outputs": [
        {
          "output_type": "stream",
          "name": "stdout",
          "text": [
            "1.En promedio los clientes que abandonaron telecom llamaron 2 veces,  mientras los que siguen con el servicio llamaron 1 ves.\n",
            "\n",
            "           Type  Total Day Calls\n",
            "0  Churn Client                2\n",
            "1     Keep Plan                1\n",
            "\n",
            " \n",
            "2a. El número de clientes que llamaron más de 3 veces fue 267\n",
            "2b. El número de clientes que llamaron 3 veces o menos fue 3066\n",
            "\n",
            "                  Type  Total Day Calls\n",
            "0     Group 1 (more 3)              267\n",
            "1  Group 2 (less or 3)             3066\n",
            "\n",
            " \n",
            "2c. El porcentaje de personas que abandonaron Telecom del grupo 1 (más de 3 llamadas) fue del 52%\n",
            "2d. El porcentaje de personas que abandonaron Telecom del grupo 2 ( 3 llamadas o menos) fue del 11%\n",
            "\n",
            "                  Type Abandon\n",
            "0     Group 1 (more 3)     52%\n",
            "1  Group 2 (less or 3)     11%\n",
            "\n",
            " \n"
          ]
        }
      ]
    },
    {
      "cell_type": "markdown",
      "source": [
        "**Análisis del Costo de las Llamadas y Churn**\n",
        "\n",
        "Compara el costo total de llamadas diurnas (total day charge) entre clientes con y sin churn.\n",
        "\n",
        "Compara el costo total de llamadas nocturnas (total night charge).\n",
        "\n",
        "¿Los clientes con mayor gasto en llamadas internacionales (total intl charge) tienen más probabilidades de desertar?"
      ],
      "metadata": {
        "id": "U7oTziiyG0Wb"
      }
    },
    {
      "cell_type": "code",
      "source": [
        "# Solución propuesta\n",
        "import numpy as np\n",
        "\n",
        "# Función para analizar un tipo de llamada (costo)\n",
        "def analizar_costo_llamadas(df, tipo_llamada):\n",
        "    costo_col = f'total {tipo_llamada} charge'\n",
        "\n",
        "    print(f\"\\nAnálisis del costo de llamadas {tipo_llamada}:\")\n",
        "    resultados = df.groupby('churn').agg({costo_col: ['mean', 'median', 'sum']})\n",
        "\n",
        "    # Formatear como moneda\n",
        "    for col in resultados.columns:\n",
        "        resultados[col] = resultados[col].apply(lambda x: \"${:,.2f}\".format(x))\n",
        "\n",
        "    print(resultados)\n",
        "\n",
        "    # Comparación del costo total (con formato)\n",
        "    costo_churn = df[df['churn'] == 1][costo_col].sum()\n",
        "    costo_no_churn = df[df['churn'] == 0][costo_col].sum()\n",
        "\n",
        "    print(f\"Costo total llamadas {tipo_llamada} (desercion): ${costo_churn:,.2f}\")\n",
        "    print(f\"Costo total llamadas {tipo_llamada} (no desercion): ${costo_no_churn:,.2f}\")\n",
        "\n",
        "    if costo_churn > costo_no_churn:\n",
        "        print(f\"\\nEn total, los clientes que desertan tienen un mayor costo de llamadas {tipo_llamada}.\")\n",
        "    else:\n",
        "        print(f\"\\nEn total, los clientes que desertan no tienen un mayor costo de llamadas {tipo_llamada}.\")\n",
        "\n",
        "# Análisis del costo de llamadas diurnas\n",
        "analizar_costo_llamadas(df, 'day')\n",
        "\n",
        "# Análisis del costo de llamadas nocturnas\n",
        "analizar_costo_llamadas(df, 'night')\n",
        "\n",
        "# Análisis del costo de llamadas internacionales\n",
        "analizar_costo_llamadas(df, 'intl')\n",
        "\n",
        "# Análisis de la relación entre el gasto en llamadas internacionales y la deserción\n",
        "print(\"\\nAnálisis de la relación entre el gasto en llamadas internacionales y la deserción:\")\n",
        "\n",
        "# Dividir a los clientes en grupos según el gasto en llamadas internacionales\n",
        "min_gasto = df['total intl charge'].min()\n",
        "max_gasto = df['total intl charge'].max()\n",
        "\n",
        "bins = np.linspace(min_gasto, max_gasto, 4)  # 4 porque queremos 3 intervalos (Bajo, Medio, Alto) **** Indica el número de puntos (incluyendo los extremos) que se van a generar. En este caso, se generan 4 puntos, lo que resulta en 3 intervalos.\n",
        "df['grupo_gasto_internacional'] = pd.cut(df['total intl charge'], bins=bins, labels=['Bajo', 'Medio', 'Alto'],\n",
        "                                         include_lowest=True)\n",
        "\n",
        "# Calcular la tasa de churn en cada grupo\n",
        "tasa_churn_por_gasto = df.groupby('grupo_gasto_internacional', observed=True)['churn'].mean() * 100\n",
        "\n",
        "# Formatear como porcentaje\n",
        "tasa_churn_por_gasto = tasa_churn_por_gasto.apply(lambda x: \"{:.2f}%\".format(x))\n",
        "\n",
        "print(\"\\nTasa de churn por grupo de gasto internacional:\")\n",
        "print(tasa_churn_por_gasto)\n",
        "\n",
        "# Comparar la tasa de churn entre los grupos\n",
        "# Manejar el caso de que no haya grupo \"Alto\"\n",
        "if 'Alto' in tasa_churn_por_gasto and 'Medio' in tasa_churn_por_gasto and 'Bajo' in tasa_churn_por_gasto:  # Verifica si existen todos los grupos\n",
        "    if tasa_churn_por_gasto['Alto'] > tasa_churn_por_gasto['Medio'] and tasa_churn_por_gasto['Medio'] > tasa_churn_por_gasto['Bajo']:  # Verifica si la tasa aumenta con el gasto\n",
        "        print(\"Los clientes con mayor gasto en llamadas internacionales tienen más probabilidades de desertar.\")  # Imprime mensaje si la relación es clara\n",
        "    else:\n",
        "        print(\"No hay una relación clara entre el gasto en llamadas internacionales y la deserción.\")  # Imprime mensaje si no hay relación clara\n",
        "else:\n",
        "    print(\"No hay suficientes grupos para determinar una relación clara.\")  # Imprime mensaje si faltan grupos"
      ],
      "metadata": {
        "id": "YWGmcLdoIYwx",
        "colab": {
          "base_uri": "https://localhost:8080/"
        },
        "outputId": "f7916f91-9a4a-448c-b836-4cc0c3acdaf3"
      },
      "execution_count": null,
      "outputs": [
        {
          "output_type": "stream",
          "name": "stdout",
          "text": [
            "\n",
            "Análisis del costo de llamadas day:\n",
            "      total day charge                    \n",
            "                  mean  median         sum\n",
            "churn                                     \n",
            "False           $29.78  $30.12  $84,874.20\n",
            "True            $35.18  $36.99  $16,989.97\n",
            "Costo total llamadas day (desercion): $16,989.97\n",
            "Costo total llamadas day (no desercion): $84,874.20\n",
            "\n",
            "En total, los clientes que desertan no tienen un mayor costo de llamadas day.\n",
            "\n",
            "Análisis del costo de llamadas night:\n",
            "      total night charge                   \n",
            "                    mean median         sum\n",
            "churn                                      \n",
            "False              $9.01  $9.01  $25,667.31\n",
            "True               $9.24  $9.22   $4,460.76\n",
            "Costo total llamadas night (desercion): $4,460.76\n",
            "Costo total llamadas night (no desercion): $25,667.31\n",
            "\n",
            "En total, los clientes que desertan no tienen un mayor costo de llamadas night.\n",
            "\n",
            "Análisis del costo de llamadas intl:\n",
            "      total intl charge                  \n",
            "                   mean median        sum\n",
            "churn                                    \n",
            "False             $2.74  $2.75  $7,818.70\n",
            "True              $2.89  $2.86  $1,395.65\n",
            "Costo total llamadas intl (desercion): $1,395.65\n",
            "Costo total llamadas intl (no desercion): $7,818.70\n",
            "\n",
            "En total, los clientes que desertan no tienen un mayor costo de llamadas intl.\n",
            "\n",
            "Análisis de la relación entre el gasto en llamadas internacionales y la deserción:\n",
            "\n",
            "Tasa de churn por grupo de gasto internacional:\n",
            "grupo_gasto_internacional\n",
            "Bajo     11.52%\n",
            "Medio    13.43%\n",
            "Alto     23.99%\n",
            "Name: churn, dtype: object\n",
            "Los clientes con mayor gasto en llamadas internacionales tienen más probabilidades de desertar.\n"
          ]
        }
      ]
    }
  ]
}